{
  "nbformat": 4,
  "nbformat_minor": 0,
  "metadata": {
    "colab": {
      "provenance": []
    },
    "kernelspec": {
      "name": "python3",
      "display_name": "Python 3"
    },
    "language_info": {
      "name": "python"
    },
    "accelerator": "GPU"
  },
  "cells": [
    {
      "cell_type": "markdown",
      "metadata": {
        "id": "zEui-GQjNDlR"
      },
      "source": [
        "# ***URL_Classifier***\n"
      ]
    },
    {
      "cell_type": "markdown",
      "metadata": {
        "id": "G1F25eokMWdy"
      },
      "source": [
        "\n",
        "\n",
        "> Part of this code is adapted from COMP3359 course material @ the University of Hong Kong\n",
        "\n"
      ]
    },
    {
      "cell_type": "markdown",
      "source": [
        "## ***Initialization***\n",
        "\n",
        "Imports the necessary libraries and checks if a GPU is available for TensorFlow to use."
      ],
      "metadata": {
        "id": "eE3MbIZyZscC"
      }
    },
    {
      "cell_type": "markdown",
      "source": [
        "#### ***Prepare Notebook for Google Colab***"
      ],
      "metadata": {
        "id": "nJ7v4M88a1Vr"
      }
    },
    {
      "cell_type": "code",
      "metadata": {
        "id": "o6iCdZuZLkiJ",
        "colab": {
          "base_uri": "https://localhost:8080/"
        },
        "outputId": "c4899cd6-1897-46c7-c745-0492177635a7"
      },
      "source": [
        "# URL Classifier\n",
        "\"\"\" Prepare Notebook for Google Colab \"\"\"\n",
        "# Mount Google Drive\n",
        "from google.colab import drive\n",
        "drive.mount('/content/drive')\n",
        "\n",
        "# Specify location\n",
        "module_dir = (\n",
        "    \"/content/drive/My Drive/Demo\"\n",
        ")\n",
        "\n",
        "# Add material directory\n",
        "import sys\n",
        "sys.path.append(module_dir)"
      ],
      "execution_count": null,
      "outputs": [
        {
          "output_type": "stream",
          "name": "stdout",
          "text": [
            "Mounted at /content/drive\n"
          ]
        }
      ]
    },
    {
      "cell_type": "markdown",
      "source": [
        "#### ***Install prerequisite libraries***"
      ],
      "metadata": {
        "id": "4tDbnxsvbQuv"
      }
    },
    {
      "cell_type": "code",
      "metadata": {
        "id": "NloYHdv-OI9b"
      },
      "source": [
        "\"\"\" Install prerequisite libraries \"\"\"\n",
        "# Some of the codes in this notebook may return error\n",
        "# with different versions of the packages listed below.\n",
        "# Please install the packages with the versions specified below.\n",
        "!pip3 install wordninja==2.0.0             # for splitting joined words\n",
        "!pip3 install scikit-learn==0.23.2         # for one-hot encoding\n",
        "!pip3 install lime==0.2.0                  # for explaining model predictions\n",
        "\n",
        "# Uncomment to install the libraries if necessary\n",
        "#!pip3 install tensorflow==2.0.0           # if you use TensorFlow w/out GPU\n",
        "!pip3 install tensorflow-gpu==2.0.0       # if you use TensorFlow w/ GPU"
      ],
      "execution_count": null,
      "outputs": []
    },
    {
      "cell_type": "markdown",
      "source": [
        "#### ***Import Packages to Use***"
      ],
      "metadata": {
        "id": "EvIFecsGbX-k"
      }
    },
    {
      "cell_type": "code",
      "metadata": {
        "id": "NDuGrk5BOo8O",
        "colab": {
          "base_uri": "https://localhost:8080/"
        },
        "outputId": "822732d5-50a6-4998-dc68-0cf6570f3d1d"
      },
      "source": [
        "\"\"\" Import Packages to Use \"\"\"\n",
        "\n",
        "import os\n",
        "import random\n",
        "import numpy as np\n",
        "import pandas as pd\n",
        "import pickle\n",
        "\n",
        "# For splitting joined words\n",
        "import wordninja\n",
        "\n",
        "# Import TensorFlow\n",
        "import tensorflow as tf\n",
        "# Text processing methods with TF\n",
        "from tensorflow.keras.preprocessing.text import Tokenizer\n",
        "from tensorflow.keras.preprocessing.sequence import pad_sequences\n",
        "# Check if any GPU is detected\n",
        "print(\"Is GPU available: \", tf.test.is_gpu_available())\n",
        "print(\"GPU(s) found: \")\n",
        "print(tf.config.experimental.list_physical_devices('GPU'))\n",
        "\n",
        "# For visualization\n",
        "import matplotlib.pyplot as plt\n",
        "%matplotlib inline\n",
        "\n",
        "# For explaining URL classification predictions\n",
        "from lime.lime_text import LimeTextExplainer\n",
        "\n",
        "# We provide a function to prepare data as inputs to our classificaiton model.\n",
        "# About how the data are processed, please refer to: text_processing_demo.ipynb.\n",
        "from utils import preprocess_data\n",
        "# Also, a function is prepared to takes URL string as input and returns the\n",
        "# predicted category.\n",
        "from utils import predict_url"
      ],
      "execution_count": null,
      "outputs": [
        {
          "output_type": "stream",
          "text": [
            "Is GPU available:  True\n",
            "GPU(s) found: \n",
            "[PhysicalDevice(name='/physical_device:GPU:0', device_type='GPU')]\n"
          ],
          "name": "stdout"
        }
      ]
    },
    {
      "cell_type": "markdown",
      "source": [
        "#### ***Global Variables***"
      ],
      "metadata": {
        "id": "UUgKEi_WbjDI"
      }
    },
    {
      "cell_type": "code",
      "metadata": {
        "id": "3aygmIwSOtD1"
      },
      "source": [
        "\"\"\" Global Variables \"\"\"\n",
        "\n",
        "# Set random seed\n",
        "RAND_SEED = 9999\n",
        "random.seed(RAND_SEED)\n",
        "# Random seed for TensorFlow\n",
        "tf.random.set_seed(RAND_SEED)\n",
        "\n",
        "##### Data #####\n",
        "# For demo purpose, we only use data of a subset of categories in this notebook\n",
        "CATEGORIES_TO_USE = ['left','central','right']\n",
        "N_CLASSES = len(CATEGORIES_TO_USE) # Number of classes to predict\n",
        "# Size of training dataset\n",
        "TRAIN_SIZE = 0.8\n",
        "\n",
        "##### Text Processing #####\n",
        "# Vocabulary size for tokenization\n",
        "VOCAB_SIZE = 10000\n",
        "# Maximum length of token sequence\n",
        "MAX_LEN = 20\n",
        "\n",
        "##### Classification Model #####\n",
        "# Size of data batches\n",
        "BATCH_SIZE = 40000\n",
        "# Dimension of Word Embedding layer\n",
        "EMBEDDING_DIM = 512\n",
        "# Learning rate of optimizer\n",
        "LR = 1e-3\n",
        "# Number of epochs to train model\n",
        "N_EPOCH = 100"
      ],
      "execution_count": null,
      "outputs": []
    },
    {
      "cell_type": "markdown",
      "source": [
        "## ***Data Processing***\n",
        "\n",
        "The data is loaded from a CSV file containing URLs and their corresponding categories. The categories are 'left', 'central', and 'right'. The data is then shuffled and split into training and test sets. After a series of processing, the data is finally be converted into one-hot encoded format."
      ],
      "metadata": {
        "id": "h1310TFOb8Yx"
      }
    },
    {
      "cell_type": "markdown",
      "source": [
        "#### ***Load Data***"
      ],
      "metadata": {
        "id": "5m_XJqTrbnAu"
      }
    },
    {
      "cell_type": "code",
      "metadata": {
        "id": "6qGh95PMO5JJ",
        "colab": {
          "base_uri": "https://localhost:8080/"
        },
        "outputId": "7d63b713-b541-4345-e3b4-e50dff05878c"
      },
      "source": [
        "\"\"\" Load Data \"\"\"\n",
        "\n",
        "# Specify root data directory\n",
        "data_dir = os.path.join(module_dir, \"data/\")\n",
        "\n",
        "# Path to data file\n",
        "data_path = os.path.join(data_dir, \"URL.csv\")\n",
        "\n",
        "# Load data into pandas DataFrame\n",
        "data_df = pd.read_csv(data_path, header=None)\n",
        "print(\"Example Data:\")\n",
        "print(data_df.head())"
      ],
      "execution_count": null,
      "outputs": [
        {
          "output_type": "stream",
          "text": [
            "Example Data:\n",
            "   0                                                  1        2\n",
            "0  1         https://www.bbc.com/news/business-52977388  central\n",
            "1  2  https://www1.cbn.com/cbnnews/world/2021/march/...    right\n",
            "2  3  https://www1.cbn.com/cbnnews/us/2021/march/pol...    right\n",
            "3  4  https://www1.cbn.com/cbnnews/2021/march/hugs-a...    right\n",
            "4  5  https://www1.cbn.com/cbnnews/us/2021/march/mir...    right\n"
          ],
          "name": "stdout"
        }
      ]
    },
    {
      "cell_type": "code",
      "metadata": {
        "id": "lUNVtQ-pPBBJ",
        "colab": {
          "base_uri": "https://localhost:8080/"
        },
        "outputId": "a214d319-b786-4177-a5fb-5965245742f3"
      },
      "source": [
        "# For demo purpose, we only use data of a subset of categories here\n",
        "print(\"All categories: \")\n",
        "print(pd.unique(data_df.iloc[:,2]))\n",
        "print(\"Original data size: \")\n",
        "print(data_df.shape)\n",
        "print(\"----------\")\n",
        "\n",
        "data_df = data_df[data_df.iloc[:,2].isin(CATEGORIES_TO_USE)]\n",
        "\n",
        "print(\"Categories to use: \")\n",
        "print(pd.unique(data_df.iloc[:,2]))\n",
        "print(\"Data size: \")\n",
        "print(data_df.shape)\n",
        "print(\"----------\")"
      ],
      "execution_count": null,
      "outputs": [
        {
          "output_type": "stream",
          "text": [
            "All categories: \n",
            "['central' 'right' 'left']\n",
            "Original data size: \n",
            "(460, 3)\n",
            "----------\n",
            "Categories to use: \n",
            "['central' 'right' 'left']\n",
            "Data size: \n",
            "(460, 3)\n",
            "----------\n"
          ],
          "name": "stdout"
        }
      ]
    },
    {
      "cell_type": "markdown",
      "source": [
        "#### ***Split Data***"
      ],
      "metadata": {
        "id": "Z3KPeY6hci5i"
      }
    },
    {
      "cell_type": "code",
      "metadata": {
        "id": "Fbt0YxGHPGTd",
        "colab": {
          "base_uri": "https://localhost:8080/"
        },
        "outputId": "f9d93694-551e-4f43-c09e-9758794af9ee"
      },
      "source": [
        "\"\"\" Split Data into Training & Test Sets \"\"\"\n",
        "\n",
        "# First, shuffle the data, by shuffling indices.\n",
        "idx_all = list(range(len(data_df)))\n",
        "random.shuffle(idx_all)\n",
        "\n",
        "# Find out where to split training/test set\n",
        "m = int(len(data_df) * TRAIN_SIZE)\n",
        "\n",
        "# Split indices\n",
        "idx_train, idx_test = idx_all[:m], idx_all[m:]\n",
        "# Split data\n",
        "X_train, y_train = data_df.iloc[idx_train, 1].values, data_df.iloc[idx_train, 2].values\n",
        "X_test, y_test = data_df.iloc[idx_test, 1].values, data_df.iloc[idx_test, 2].values\n",
        "\n",
        "# Show dataset stats\n",
        "print(\"Training set label distriubtion: \", np.unique(y_train, return_counts=True))\n",
        "print(\"Test set label distriubtion: \", np.unique(y_test, return_counts=True))"
      ],
      "execution_count": null,
      "outputs": [
        {
          "output_type": "stream",
          "text": [
            "Training set label distriubtion:  (array(['central', 'left', 'right'], dtype=object), array([134, 120, 114]))\n",
            "Test set label distriubtion:  (array(['central', 'left', 'right'], dtype=object), array([27, 30, 35]))\n"
          ],
          "name": "stdout"
        }
      ]
    },
    {
      "cell_type": "markdown",
      "source": [
        "#### ***Preprocess Data***"
      ],
      "metadata": {
        "id": "2f56JJujcpBC"
      }
    },
    {
      "cell_type": "code",
      "metadata": {
        "id": "8HD_YswbxaMW",
        "colab": {
          "base_uri": "https://localhost:8080/"
        },
        "outputId": "0a7e40d7-5f3d-44f0-bbbd-74465eb3e561"
      },
      "source": [
        "\"\"\" Preprocess Data \"\"\"\n",
        "\n",
        "print(\"===== Before Preprocessing =====\")\n",
        "print(\"----- Training Data -----\")\n",
        "print(\"URL: \", X_train[0])\n",
        "print(\"Category: \", y_train[0])\n",
        "print(\"----- Test Data -----\")\n",
        "print(\"URL: \", X_test[0])\n",
        "print(\"Category: \", y_test[0])\n",
        "print(\"================================\")\n",
        "\n",
        "\n",
        "# First, we process the training data. While processing the training data, a\n",
        "# tokenizer and an encoder are constructed based on the training inputs and\n",
        "# labels, resp. The function preprocess_data(...) returns the tokenizer and\n",
        "# encoder used.\n",
        "X_train, y_train, tokenizer, encoder = preprocess_data(\n",
        "    X_train, y_train, return_processors=True,\n",
        ")\n",
        "\n",
        "# Based on the tokenizer and encoder constructed from training data, we process\n",
        "# the test data here too.\n",
        "X_test, y_test = preprocess_data(\n",
        "    X_test, y_test,\n",
        "    tokenizer=tokenizer, encoder=encoder,\n",
        ")\n",
        "\n",
        "print(\"===== After Preprocessing =====\")\n",
        "print(\"----- Training Data -----\")\n",
        "print(\"Input: \", X_train[0])\n",
        "print(\"Label: \", y_train[0])\n",
        "print(\"----- Test Data -----\")\n",
        "print(\"Input: \", X_test[0])\n",
        "print(\"Label: \", y_test[0])\n",
        "print(\"================================\")"
      ],
      "execution_count": null,
      "outputs": [
        {
          "output_type": "stream",
          "text": [
            "===== Before Preprocessing =====\n",
            "----- Training Data -----\n",
            "URL:  https://www.bbc.com/news/world-us-canada-56585169\n",
            "Category:  central\n",
            "----- Test Data -----\n",
            "URL:  https://www.foxnews.com/us/gen-jack-keane-on-covid-coming-from-a-wuhan-lab-i-accept-that-conclusion\n",
            "Category:  right\n",
            "================================\n",
            "===== After Preprocessing =====\n",
            "----- Training Data -----\n",
            "Input:  [  2   4  16   3   7  31   8 113 573   0   0   0   0   0   0   0   0   0\n",
            "   0   0]\n",
            "Label:  [1. 0. 0.]\n",
            "----- Test Data -----\n",
            "Input:  [   4   26    7    3    8    1  450    1   42   40   53    1  112   52\n",
            " 1091    1    9    1  499    1]\n",
            "Label:  [0. 0. 1.]\n",
            "================================\n"
          ],
          "name": "stdout"
        }
      ]
    },
    {
      "cell_type": "markdown",
      "source": [
        "#### ***TensorFlow Dataset Pipeline***"
      ],
      "metadata": {
        "id": "d3k9QcSxcsUY"
      }
    },
    {
      "cell_type": "code",
      "metadata": {
        "id": "IjhL9cNLxcpA"
      },
      "source": [
        "\"\"\" TensorFlow Dataset Pipeline \"\"\"\n",
        "\n",
        "# A TF dataset pipeline is prepared here for feeding input batches to train the\n",
        "# model later.\n",
        "\n",
        "# Training set data pipeline\n",
        "train_ds = tf.data.Dataset.from_tensor_slices((X_train, y_train))    # Input: tokenized urls, target labels\n",
        "train_ds = train_ds.shuffle(buffer_size=len(X_train))                # Shuffle training data\n",
        "train_ds = train_ds.batch(batch_size=BATCH_SIZE)                     # Split shuffled training data into batches\n",
        "# Test set data pipeline\n",
        "test_ds = tf.data.Dataset.from_tensor_slices((X_test, y_test))\n",
        "test_ds = test_ds.batch(batch_size=BATCH_SIZE)"
      ],
      "execution_count": null,
      "outputs": []
    },
    {
      "cell_type": "markdown",
      "metadata": {
        "id": "c3010l7KJsh6"
      },
      "source": [
        "## ***Modeling***\n",
        "\n",
        "The model is a sequential model built using Keras. It consists of an embedding layer, a GlobalAveragePooling1D layer, a dense layer with 'relu' activation function, and a final dense layer with 'softmax' activation function."
      ]
    },
    {
      "cell_type": "markdown",
      "source": [
        "#### ***Model construction***"
      ],
      "metadata": {
        "id": "m1oMmbJac96B"
      }
    },
    {
      "cell_type": "code",
      "metadata": {
        "id": "SQK8bnCGxet3",
        "colab": {
          "base_uri": "https://localhost:8080/"
        },
        "outputId": "86878f06-7b8e-46e2-edd8-eb2314d84d95"
      },
      "source": [
        "# Construct a neural network\n",
        "model = tf.keras.Sequential([\n",
        "  tf.keras.layers.Embedding(VOCAB_SIZE, EMBEDDING_DIM, input_length=MAX_LEN),\n",
        "  tf.keras.layers.GlobalAveragePooling1D(),\n",
        "  tf.keras.layers.Dense(128, activation='relu'),\n",
        "  tf.keras.layers.Dense(N_CLASSES, activation='softmax')\n",
        "])\n",
        "\n",
        "# Compile model\n",
        "model.compile(loss='binary_crossentropy',\n",
        "              optimizer=tf.keras.optimizers.Adam(LR),\n",
        "              metrics=['accuracy'])\n",
        "\n",
        "# Show model structure\n",
        "print(model.summary())"
      ],
      "execution_count": null,
      "outputs": [
        {
          "output_type": "stream",
          "text": [
            "Model: \"sequential\"\n",
            "_________________________________________________________________\n",
            "Layer (type)                 Output Shape              Param #   \n",
            "=================================================================\n",
            "embedding (Embedding)        (None, 20, 512)           5120000   \n",
            "_________________________________________________________________\n",
            "global_average_pooling1d (Gl (None, 512)               0         \n",
            "_________________________________________________________________\n",
            "dense (Dense)                (None, 128)               65664     \n",
            "_________________________________________________________________\n",
            "dense_1 (Dense)              (None, 3)                 387       \n",
            "=================================================================\n",
            "Total params: 5,186,051\n",
            "Trainable params: 5,186,051\n",
            "Non-trainable params: 0\n",
            "_________________________________________________________________\n",
            "None\n"
          ],
          "name": "stdout"
        }
      ]
    },
    {
      "cell_type": "markdown",
      "source": [
        "#### ***Model training***"
      ],
      "metadata": {
        "id": "gNaP8lVadB5v"
      }
    },
    {
      "cell_type": "code",
      "metadata": {
        "id": "2UfSVyeLxgcd",
        "colab": {
          "base_uri": "https://localhost:8080/"
        },
        "outputId": "74837be6-e7c3-4224-a15a-27016014b7f0"
      },
      "source": [
        "\"\"\" Train Model \"\"\"\n",
        "\n",
        "history = model.fit(train_ds, epochs=N_EPOCH,\n",
        "                    validation_data=test_ds, verbose=1)"
      ],
      "execution_count": null,
      "outputs": [
        {
          "output_type": "stream",
          "text": [
            "Epoch 1/100\n",
            "1/1 [==============================] - 3s 3s/step - loss: 0.6955 - accuracy: 0.2772 - val_loss: 0.6894 - val_accuracy: 0.6413\n",
            "Epoch 2/100\n",
            "1/1 [==============================] - 0s 143ms/step - loss: 0.6890 - accuracy: 0.7799 - val_loss: 0.6850 - val_accuracy: 0.7717\n",
            "Epoch 3/100\n",
            "1/1 [==============================] - 0s 111ms/step - loss: 0.6835 - accuracy: 0.8451 - val_loss: 0.6809 - val_accuracy: 0.8261\n",
            "Epoch 4/100\n",
            "1/1 [==============================] - 0s 105ms/step - loss: 0.6784 - accuracy: 0.8533 - val_loss: 0.6767 - val_accuracy: 0.8261\n",
            "Epoch 5/100\n",
            "1/1 [==============================] - 0s 106ms/step - loss: 0.6730 - accuracy: 0.8614 - val_loss: 0.6723 - val_accuracy: 0.8152\n",
            "Epoch 6/100\n",
            "1/1 [==============================] - 0s 104ms/step - loss: 0.6673 - accuracy: 0.8723 - val_loss: 0.6676 - val_accuracy: 0.8152\n",
            "Epoch 7/100\n",
            "1/1 [==============================] - 0s 104ms/step - loss: 0.6612 - accuracy: 0.8723 - val_loss: 0.6627 - val_accuracy: 0.8261\n",
            "Epoch 8/100\n",
            "1/1 [==============================] - 0s 110ms/step - loss: 0.6546 - accuracy: 0.8750 - val_loss: 0.6575 - val_accuracy: 0.8152\n",
            "Epoch 9/100\n",
            "1/1 [==============================] - 0s 99ms/step - loss: 0.6475 - accuracy: 0.8777 - val_loss: 0.6519 - val_accuracy: 0.8152\n",
            "Epoch 10/100\n",
            "1/1 [==============================] - 0s 110ms/step - loss: 0.6399 - accuracy: 0.8777 - val_loss: 0.6459 - val_accuracy: 0.8152\n",
            "Epoch 11/100\n",
            "1/1 [==============================] - 0s 112ms/step - loss: 0.6316 - accuracy: 0.8804 - val_loss: 0.6395 - val_accuracy: 0.8152\n",
            "Epoch 12/100\n",
            "1/1 [==============================] - 0s 102ms/step - loss: 0.6227 - accuracy: 0.8832 - val_loss: 0.6327 - val_accuracy: 0.8152\n",
            "Epoch 13/100\n",
            "1/1 [==============================] - 0s 116ms/step - loss: 0.6132 - accuracy: 0.8940 - val_loss: 0.6254 - val_accuracy: 0.8152\n",
            "Epoch 14/100\n",
            "1/1 [==============================] - 0s 103ms/step - loss: 0.6030 - accuracy: 0.8967 - val_loss: 0.6177 - val_accuracy: 0.8152\n",
            "Epoch 15/100\n",
            "1/1 [==============================] - 0s 109ms/step - loss: 0.5920 - accuracy: 0.9158 - val_loss: 0.6095 - val_accuracy: 0.8152\n",
            "Epoch 16/100\n",
            "1/1 [==============================] - 0s 106ms/step - loss: 0.5802 - accuracy: 0.9212 - val_loss: 0.6009 - val_accuracy: 0.8261\n",
            "Epoch 17/100\n",
            "1/1 [==============================] - 0s 104ms/step - loss: 0.5676 - accuracy: 0.9266 - val_loss: 0.5918 - val_accuracy: 0.8261\n",
            "Epoch 18/100\n",
            "1/1 [==============================] - 0s 102ms/step - loss: 0.5543 - accuracy: 0.9321 - val_loss: 0.5822 - val_accuracy: 0.8261\n",
            "Epoch 19/100\n",
            "1/1 [==============================] - 0s 104ms/step - loss: 0.5401 - accuracy: 0.9402 - val_loss: 0.5721 - val_accuracy: 0.8261\n",
            "Epoch 20/100\n",
            "1/1 [==============================] - 0s 106ms/step - loss: 0.5252 - accuracy: 0.9429 - val_loss: 0.5616 - val_accuracy: 0.8261\n",
            "Epoch 21/100\n",
            "1/1 [==============================] - 0s 103ms/step - loss: 0.5095 - accuracy: 0.9484 - val_loss: 0.5506 - val_accuracy: 0.8370\n",
            "Epoch 22/100\n",
            "1/1 [==============================] - 0s 115ms/step - loss: 0.4931 - accuracy: 0.9538 - val_loss: 0.5393 - val_accuracy: 0.8370\n",
            "Epoch 23/100\n",
            "1/1 [==============================] - 0s 108ms/step - loss: 0.4760 - accuracy: 0.9565 - val_loss: 0.5277 - val_accuracy: 0.8370\n",
            "Epoch 24/100\n",
            "1/1 [==============================] - 0s 103ms/step - loss: 0.4584 - accuracy: 0.9565 - val_loss: 0.5157 - val_accuracy: 0.8370\n",
            "Epoch 25/100\n",
            "1/1 [==============================] - 0s 109ms/step - loss: 0.4403 - accuracy: 0.9565 - val_loss: 0.5035 - val_accuracy: 0.8370\n",
            "Epoch 26/100\n",
            "1/1 [==============================] - 0s 110ms/step - loss: 0.4217 - accuracy: 0.9592 - val_loss: 0.4909 - val_accuracy: 0.8370\n",
            "Epoch 27/100\n",
            "1/1 [==============================] - 0s 114ms/step - loss: 0.4027 - accuracy: 0.9620 - val_loss: 0.4780 - val_accuracy: 0.8370\n",
            "Epoch 28/100\n",
            "1/1 [==============================] - 0s 103ms/step - loss: 0.3834 - accuracy: 0.9701 - val_loss: 0.4648 - val_accuracy: 0.8478\n",
            "Epoch 29/100\n",
            "1/1 [==============================] - 0s 107ms/step - loss: 0.3638 - accuracy: 0.9728 - val_loss: 0.4512 - val_accuracy: 0.8696\n",
            "Epoch 30/100\n",
            "1/1 [==============================] - 0s 115ms/step - loss: 0.3441 - accuracy: 0.9728 - val_loss: 0.4374 - val_accuracy: 0.8913\n",
            "Epoch 31/100\n",
            "1/1 [==============================] - 0s 109ms/step - loss: 0.3243 - accuracy: 0.9783 - val_loss: 0.4234 - val_accuracy: 0.9130\n",
            "Epoch 32/100\n",
            "1/1 [==============================] - 0s 98ms/step - loss: 0.3047 - accuracy: 0.9810 - val_loss: 0.4092 - val_accuracy: 0.9130\n",
            "Epoch 33/100\n",
            "1/1 [==============================] - 0s 102ms/step - loss: 0.2852 - accuracy: 0.9864 - val_loss: 0.3951 - val_accuracy: 0.9130\n",
            "Epoch 34/100\n",
            "1/1 [==============================] - 0s 107ms/step - loss: 0.2661 - accuracy: 0.9864 - val_loss: 0.3809 - val_accuracy: 0.9130\n",
            "Epoch 35/100\n",
            "1/1 [==============================] - 0s 111ms/step - loss: 0.2474 - accuracy: 0.9864 - val_loss: 0.3667 - val_accuracy: 0.9130\n",
            "Epoch 36/100\n",
            "1/1 [==============================] - 0s 106ms/step - loss: 0.2292 - accuracy: 0.9864 - val_loss: 0.3527 - val_accuracy: 0.9130\n",
            "Epoch 37/100\n",
            "1/1 [==============================] - 0s 110ms/step - loss: 0.2118 - accuracy: 0.9891 - val_loss: 0.3389 - val_accuracy: 0.9130\n",
            "Epoch 38/100\n",
            "1/1 [==============================] - 0s 111ms/step - loss: 0.1950 - accuracy: 0.9891 - val_loss: 0.3254 - val_accuracy: 0.9130\n",
            "Epoch 39/100\n",
            "1/1 [==============================] - 0s 113ms/step - loss: 0.1791 - accuracy: 0.9891 - val_loss: 0.3122 - val_accuracy: 0.9239\n",
            "Epoch 40/100\n",
            "1/1 [==============================] - 0s 100ms/step - loss: 0.1640 - accuracy: 0.9891 - val_loss: 0.2993 - val_accuracy: 0.9239\n",
            "Epoch 41/100\n",
            "1/1 [==============================] - 0s 108ms/step - loss: 0.1499 - accuracy: 0.9891 - val_loss: 0.2870 - val_accuracy: 0.9239\n",
            "Epoch 42/100\n",
            "1/1 [==============================] - 0s 106ms/step - loss: 0.1367 - accuracy: 0.9891 - val_loss: 0.2751 - val_accuracy: 0.9239\n",
            "Epoch 43/100\n",
            "1/1 [==============================] - 0s 107ms/step - loss: 0.1244 - accuracy: 0.9891 - val_loss: 0.2638 - val_accuracy: 0.9239\n",
            "Epoch 44/100\n",
            "1/1 [==============================] - 0s 104ms/step - loss: 0.1131 - accuracy: 0.9891 - val_loss: 0.2531 - val_accuracy: 0.9239\n",
            "Epoch 45/100\n",
            "1/1 [==============================] - 0s 101ms/step - loss: 0.1027 - accuracy: 0.9918 - val_loss: 0.2429 - val_accuracy: 0.9239\n",
            "Epoch 46/100\n",
            "1/1 [==============================] - 0s 103ms/step - loss: 0.0932 - accuracy: 0.9918 - val_loss: 0.2332 - val_accuracy: 0.9239\n",
            "Epoch 47/100\n",
            "1/1 [==============================] - 0s 104ms/step - loss: 0.0846 - accuracy: 0.9918 - val_loss: 0.2241 - val_accuracy: 0.9239\n",
            "Epoch 48/100\n",
            "1/1 [==============================] - 0s 113ms/step - loss: 0.0767 - accuracy: 0.9918 - val_loss: 0.2155 - val_accuracy: 0.9239\n",
            "Epoch 49/100\n",
            "1/1 [==============================] - 0s 114ms/step - loss: 0.0696 - accuracy: 0.9918 - val_loss: 0.2073 - val_accuracy: 0.9348\n",
            "Epoch 50/100\n",
            "1/1 [==============================] - 0s 102ms/step - loss: 0.0632 - accuracy: 0.9918 - val_loss: 0.1996 - val_accuracy: 0.9348\n",
            "Epoch 51/100\n",
            "1/1 [==============================] - 0s 106ms/step - loss: 0.0575 - accuracy: 0.9918 - val_loss: 0.1924 - val_accuracy: 0.9348\n",
            "Epoch 52/100\n",
            "1/1 [==============================] - 0s 106ms/step - loss: 0.0523 - accuracy: 0.9918 - val_loss: 0.1856 - val_accuracy: 0.9348\n",
            "Epoch 53/100\n",
            "1/1 [==============================] - 0s 111ms/step - loss: 0.0477 - accuracy: 0.9918 - val_loss: 0.1791 - val_accuracy: 0.9348\n",
            "Epoch 54/100\n",
            "1/1 [==============================] - 0s 113ms/step - loss: 0.0435 - accuracy: 0.9918 - val_loss: 0.1730 - val_accuracy: 0.9348\n",
            "Epoch 55/100\n",
            "1/1 [==============================] - 0s 106ms/step - loss: 0.0398 - accuracy: 0.9918 - val_loss: 0.1673 - val_accuracy: 0.9348\n",
            "Epoch 56/100\n",
            "1/1 [==============================] - 0s 115ms/step - loss: 0.0365 - accuracy: 0.9918 - val_loss: 0.1619 - val_accuracy: 0.9348\n",
            "Epoch 57/100\n",
            "1/1 [==============================] - 0s 112ms/step - loss: 0.0335 - accuracy: 0.9918 - val_loss: 0.1569 - val_accuracy: 0.9348\n",
            "Epoch 58/100\n",
            "1/1 [==============================] - 0s 106ms/step - loss: 0.0308 - accuracy: 0.9918 - val_loss: 0.1521 - val_accuracy: 0.9348\n",
            "Epoch 59/100\n",
            "1/1 [==============================] - 0s 103ms/step - loss: 0.0284 - accuracy: 0.9918 - val_loss: 0.1477 - val_accuracy: 0.9348\n",
            "Epoch 60/100\n",
            "1/1 [==============================] - 0s 108ms/step - loss: 0.0262 - accuracy: 0.9918 - val_loss: 0.1436 - val_accuracy: 0.9348\n",
            "Epoch 61/100\n",
            "1/1 [==============================] - 0s 108ms/step - loss: 0.0242 - accuracy: 0.9973 - val_loss: 0.1397 - val_accuracy: 0.9348\n",
            "Epoch 62/100\n",
            "1/1 [==============================] - 0s 112ms/step - loss: 0.0224 - accuracy: 1.0000 - val_loss: 0.1361 - val_accuracy: 0.9348\n",
            "Epoch 63/100\n",
            "1/1 [==============================] - 0s 104ms/step - loss: 0.0209 - accuracy: 1.0000 - val_loss: 0.1327 - val_accuracy: 0.9348\n",
            "Epoch 64/100\n",
            "1/1 [==============================] - 0s 110ms/step - loss: 0.0194 - accuracy: 1.0000 - val_loss: 0.1296 - val_accuracy: 0.9348\n",
            "Epoch 65/100\n",
            "1/1 [==============================] - 0s 118ms/step - loss: 0.0181 - accuracy: 1.0000 - val_loss: 0.1267 - val_accuracy: 0.9348\n",
            "Epoch 66/100\n",
            "1/1 [==============================] - 0s 111ms/step - loss: 0.0169 - accuracy: 1.0000 - val_loss: 0.1239 - val_accuracy: 0.9348\n",
            "Epoch 67/100\n",
            "1/1 [==============================] - 0s 108ms/step - loss: 0.0158 - accuracy: 1.0000 - val_loss: 0.1214 - val_accuracy: 0.9348\n",
            "Epoch 68/100\n",
            "1/1 [==============================] - 0s 118ms/step - loss: 0.0148 - accuracy: 1.0000 - val_loss: 0.1190 - val_accuracy: 0.9348\n",
            "Epoch 69/100\n",
            "1/1 [==============================] - 0s 108ms/step - loss: 0.0139 - accuracy: 1.0000 - val_loss: 0.1167 - val_accuracy: 0.9348\n",
            "Epoch 70/100\n",
            "1/1 [==============================] - 0s 113ms/step - loss: 0.0131 - accuracy: 1.0000 - val_loss: 0.1146 - val_accuracy: 0.9348\n",
            "Epoch 71/100\n",
            "1/1 [==============================] - 0s 108ms/step - loss: 0.0124 - accuracy: 1.0000 - val_loss: 0.1126 - val_accuracy: 0.9348\n",
            "Epoch 72/100\n",
            "1/1 [==============================] - 0s 107ms/step - loss: 0.0117 - accuracy: 1.0000 - val_loss: 0.1107 - val_accuracy: 0.9674\n",
            "Epoch 73/100\n",
            "1/1 [==============================] - 0s 120ms/step - loss: 0.0110 - accuracy: 1.0000 - val_loss: 0.1090 - val_accuracy: 0.9674\n",
            "Epoch 74/100\n",
            "1/1 [==============================] - 0s 113ms/step - loss: 0.0104 - accuracy: 1.0000 - val_loss: 0.1073 - val_accuracy: 0.9674\n",
            "Epoch 75/100\n",
            "1/1 [==============================] - 0s 105ms/step - loss: 0.0099 - accuracy: 1.0000 - val_loss: 0.1058 - val_accuracy: 0.9674\n",
            "Epoch 76/100\n",
            "1/1 [==============================] - 0s 106ms/step - loss: 0.0094 - accuracy: 1.0000 - val_loss: 0.1043 - val_accuracy: 0.9674\n",
            "Epoch 77/100\n",
            "1/1 [==============================] - 0s 114ms/step - loss: 0.0090 - accuracy: 1.0000 - val_loss: 0.1029 - val_accuracy: 0.9674\n",
            "Epoch 78/100\n",
            "1/1 [==============================] - 0s 109ms/step - loss: 0.0085 - accuracy: 1.0000 - val_loss: 0.1016 - val_accuracy: 0.9674\n",
            "Epoch 79/100\n",
            "1/1 [==============================] - 0s 106ms/step - loss: 0.0082 - accuracy: 1.0000 - val_loss: 0.1004 - val_accuracy: 0.9674\n",
            "Epoch 80/100\n",
            "1/1 [==============================] - 0s 114ms/step - loss: 0.0078 - accuracy: 1.0000 - val_loss: 0.0992 - val_accuracy: 0.9674\n",
            "Epoch 81/100\n",
            "1/1 [==============================] - 0s 121ms/step - loss: 0.0075 - accuracy: 1.0000 - val_loss: 0.0981 - val_accuracy: 0.9674\n",
            "Epoch 82/100\n",
            "1/1 [==============================] - 0s 107ms/step - loss: 0.0071 - accuracy: 1.0000 - val_loss: 0.0970 - val_accuracy: 0.9674\n",
            "Epoch 83/100\n",
            "1/1 [==============================] - 0s 109ms/step - loss: 0.0069 - accuracy: 1.0000 - val_loss: 0.0960 - val_accuracy: 0.9674\n",
            "Epoch 84/100\n",
            "1/1 [==============================] - 0s 132ms/step - loss: 0.0066 - accuracy: 1.0000 - val_loss: 0.0951 - val_accuracy: 0.9674\n",
            "Epoch 85/100\n",
            "1/1 [==============================] - 0s 112ms/step - loss: 0.0063 - accuracy: 1.0000 - val_loss: 0.0942 - val_accuracy: 0.9674\n",
            "Epoch 86/100\n",
            "1/1 [==============================] - 0s 110ms/step - loss: 0.0061 - accuracy: 1.0000 - val_loss: 0.0934 - val_accuracy: 0.9674\n",
            "Epoch 87/100\n",
            "1/1 [==============================] - 0s 112ms/step - loss: 0.0059 - accuracy: 1.0000 - val_loss: 0.0926 - val_accuracy: 0.9674\n",
            "Epoch 88/100\n",
            "1/1 [==============================] - 0s 119ms/step - loss: 0.0057 - accuracy: 1.0000 - val_loss: 0.0919 - val_accuracy: 0.9674\n",
            "Epoch 89/100\n",
            "1/1 [==============================] - 0s 121ms/step - loss: 0.0055 - accuracy: 1.0000 - val_loss: 0.0911 - val_accuracy: 0.9674\n",
            "Epoch 90/100\n",
            "1/1 [==============================] - 0s 104ms/step - loss: 0.0053 - accuracy: 1.0000 - val_loss: 0.0905 - val_accuracy: 0.9674\n",
            "Epoch 91/100\n",
            "1/1 [==============================] - 0s 109ms/step - loss: 0.0051 - accuracy: 1.0000 - val_loss: 0.0898 - val_accuracy: 0.9674\n",
            "Epoch 92/100\n",
            "1/1 [==============================] - 0s 106ms/step - loss: 0.0050 - accuracy: 1.0000 - val_loss: 0.0892 - val_accuracy: 0.9674\n",
            "Epoch 93/100\n",
            "1/1 [==============================] - 0s 104ms/step - loss: 0.0048 - accuracy: 1.0000 - val_loss: 0.0886 - val_accuracy: 0.9674\n",
            "Epoch 94/100\n",
            "1/1 [==============================] - 0s 108ms/step - loss: 0.0047 - accuracy: 1.0000 - val_loss: 0.0880 - val_accuracy: 0.9674\n",
            "Epoch 95/100\n",
            "1/1 [==============================] - 0s 108ms/step - loss: 0.0045 - accuracy: 1.0000 - val_loss: 0.0875 - val_accuracy: 0.9674\n",
            "Epoch 96/100\n",
            "1/1 [==============================] - 0s 107ms/step - loss: 0.0044 - accuracy: 1.0000 - val_loss: 0.0870 - val_accuracy: 0.9674\n",
            "Epoch 97/100\n",
            "1/1 [==============================] - 0s 104ms/step - loss: 0.0043 - accuracy: 1.0000 - val_loss: 0.0865 - val_accuracy: 0.9674\n",
            "Epoch 98/100\n",
            "1/1 [==============================] - 0s 107ms/step - loss: 0.0042 - accuracy: 1.0000 - val_loss: 0.0860 - val_accuracy: 0.9674\n",
            "Epoch 99/100\n",
            "1/1 [==============================] - 0s 106ms/step - loss: 0.0041 - accuracy: 1.0000 - val_loss: 0.0856 - val_accuracy: 0.9674\n",
            "Epoch 100/100\n",
            "1/1 [==============================] - 0s 107ms/step - loss: 0.0039 - accuracy: 1.0000 - val_loss: 0.0851 - val_accuracy: 0.9674\n"
          ],
          "name": "stdout"
        }
      ]
    },
    {
      "cell_type": "markdown",
      "source": [
        "## ***Result***\n",
        "\n",
        "The model's performance is evaluated by precision and recall, using the Scikit-learn library's classification_report function."
      ],
      "metadata": {
        "id": "thUE5_Q5dGPP"
      }
    },
    {
      "cell_type": "markdown",
      "source": [
        "#### ***Loss rate & Accuracy***"
      ],
      "metadata": {
        "id": "YVbBl1HndQk4"
      }
    },
    {
      "cell_type": "code",
      "metadata": {
        "id": "UJlLDw7YxjcK",
        "colab": {
          "base_uri": "https://localhost:8080/",
          "height": 573
        },
        "outputId": "37be6ca9-9a6b-409a-9813-f71b75452540"
      },
      "source": [
        "\"\"\" Visualize Training Results \"\"\"\n",
        "\n",
        "##### Loss #####\n",
        "# Get training results\n",
        "history_dict = history.history\n",
        "train_acc = history_dict['loss']\n",
        "test_acc = history_dict['val_loss']\n",
        "\n",
        "# Plot training results\n",
        "plt.plot(train_acc, label='Train Loss')\n",
        "plt.plot(test_acc, label='Test Loss')\n",
        "\n",
        "# Show plot\n",
        "plt.title('Model Training Results (Loss)')\n",
        "plt.xlabel('Epochs')\n",
        "plt.ylabel('Loss')\n",
        "plt.legend(loc=\"lower right\")\n",
        "plt.grid()\n",
        "plt.show()\n",
        "\n",
        "##### Accuracy #####\n",
        "# Get training results\n",
        "history_dict = history.history\n",
        "train_acc = history_dict['accuracy']\n",
        "test_acc = history_dict['val_accuracy']\n",
        "\n",
        "# Plot training results\n",
        "plt.plot(train_acc, label='Train Acc.')\n",
        "plt.plot(test_acc, label='Test Acc.')\n",
        "\n",
        "# Show plot\n",
        "plt.title('Model Training Results (Acc.)')\n",
        "plt.xlabel('Epochs')\n",
        "plt.ylabel('Acc')\n",
        "plt.legend(loc=\"lower right\")\n",
        "plt.grid()\n",
        "plt.show()"
      ],
      "execution_count": null,
      "outputs": [
        {
          "output_type": "display_data",
          "data": {
            "image/png": "[encoded data removed]",
            "text/plain": [
              "<Figure size 432x288 with 1 Axes>"
            ]
          },
          "metadata": {
            "tags": [],
            "needs_background": "light"
          }
        },
        {
          "output_type": "display_data",
          "data": {
            "image/png": "[encoded data removed]",
            "text/plain": [
              "<Figure size 432x288 with 1 Axes>"
            ]
          },
          "metadata": {
            "tags": [],
            "needs_background": "light"
          }
        }
      ]
    },
    {
      "cell_type": "markdown",
      "source": [
        "#### ***Precision & Recall***"
      ],
      "metadata": {
        "id": "-YQ02HXEdWeL"
      }
    },
    {
      "cell_type": "code",
      "metadata": {
        "id": "cCyLNimCxmas",
        "colab": {
          "base_uri": "https://localhost:8080/"
        },
        "outputId": "8fff6ddf-cc04-45d7-b5fa-e3f902964c69"
      },
      "source": [
        "\"\"\" Precision & Recall \"\"\"\n",
        "\n",
        "# Sklearn provides the classificatiaon_report(...) function which makes\n",
        "# evaluation of classification model easy.\n",
        "from sklearn.metrics import  classification_report\n",
        "\n",
        "print(classification_report(\n",
        "    np.argmax(y_test, axis=1),  # ground-truths\n",
        "    np.argmax(model.predict(X_test), axis=1), # predictions\n",
        "    target_names=CATEGORIES_TO_USE)\n",
        ")"
      ],
      "execution_count": null,
      "outputs": [
        {
          "output_type": "stream",
          "text": [
            "              precision    recall  f1-score   support\n",
            "\n",
            "        left       0.93      0.96      0.95        27\n",
            "     central       1.00      1.00      1.00        30\n",
            "       right       0.97      0.94      0.96        35\n",
            "\n",
            "    accuracy                           0.97        92\n",
            "   macro avg       0.97      0.97      0.97        92\n",
            "weighted avg       0.97      0.97      0.97        92\n",
            "\n"
          ],
          "name": "stdout"
        }
      ]
    }
  ]
}